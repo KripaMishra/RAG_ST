{
 "cells": [
  {
   "cell_type": "code",
   "execution_count": 1,
   "metadata": {},
   "outputs": [
    {
     "name": "stderr",
     "output_type": "stream",
     "text": [
      "/home/ubuntu/Steps/.venv/lib/python3.12/site-packages/tqdm/auto.py:21: TqdmWarning: IProgress not found. Please update jupyter and ipywidgets. See https://ipywidgets.readthedocs.io/en/stable/user_install.html\n",
      "  from .autonotebook import tqdm as notebook_tqdm\n",
      "The tokenizer class you load from this checkpoint is not the same type as the class this function is called from. It may result in unexpected tokenization. \n",
      "The tokenizer class you load from this checkpoint is 'DPRQuestionEncoderTokenizer'. \n",
      "The class this function is called from is 'DPRContextEncoderTokenizer'.\n",
      "Some weights of the model checkpoint at facebook/dpr-ctx_encoder-multiset-base were not used when initializing DPRContextEncoder: ['ctx_encoder.bert_model.pooler.dense.bias', 'ctx_encoder.bert_model.pooler.dense.weight']\n",
      "- This IS expected if you are initializing DPRContextEncoder from the checkpoint of a model trained on another task or with another architecture (e.g. initializing a BertForSequenceClassification model from a BertForPreTraining model).\n",
      "- This IS NOT expected if you are initializing DPRContextEncoder from the checkpoint of a model that you expect to be exactly identical (initializing a BertForSequenceClassification model from a BertForSequenceClassification model).\n",
      "Some weights of the model checkpoint at facebook/dpr-question_encoder-multiset-base were not used when initializing DPRQuestionEncoder: ['question_encoder.bert_model.pooler.dense.bias', 'question_encoder.bert_model.pooler.dense.weight']\n",
      "- This IS expected if you are initializing DPRQuestionEncoder from the checkpoint of a model trained on another task or with another architecture (e.g. initializing a BertForSequenceClassification model from a BertForPreTraining model).\n",
      "- This IS NOT expected if you are initializing DPRQuestionEncoder from the checkpoint of a model that you expect to be exactly identical (initializing a BertForSequenceClassification model from a BertForSequenceClassification model).\n",
      "Asking to truncate to max_length but no maximum length is provided and the model has no predefined maximum length. Default to no truncation.\n",
      "Asking to truncate to max_length but no maximum length is provided and the model has no predefined maximum length. Default to no truncation.\n"
     ]
    },
    {
     "name": "stdout",
     "output_type": "stream",
     "text": [
      "Top passages for query 'Do mamals lay eggs or do they give birth to young ones?':\n",
      "Passage 2: Mamals give birth to young ones (Score: 0.6731)\n",
      "Passage 1: mamals have 4 legs. (Score: 0.5483)\n",
      "\n",
      "Top passages for query 'How many legs does a mamal have?':\n",
      "Passage 1: mamals have 4 legs. (Score: 0.6985)\n",
      "Passage 5: Mamals have 4 arms (Score: 0.6080)\n",
      "\n"
     ]
    }
   ],
   "source": [
    "from transformers import DPRContextEncoder, DPRQuestionEncoder, DPRContextEncoderTokenizer, DPRQuestionEncoderTokenizer\n",
    "import torch\n",
    "import numpy as np\n",
    "\n",
    "# Load DPR models and tokenizers\n",
    "context_model_name = 'facebook/dpr-ctx_encoder-multiset-base'\n",
    "question_model_name = 'facebook/dpr-question_encoder-multiset-base'\n",
    "context_tokenizer = DPRContextEncoderTokenizer.from_pretrained(context_model_name)\n",
    "question_tokenizer = DPRQuestionEncoderTokenizer.from_pretrained(question_model_name)\n",
    "\n",
    "# Initialize models\n",
    "context_encoder = DPRContextEncoder.from_pretrained(context_model_name)\n",
    "question_encoder = DPRQuestionEncoder.from_pretrained(question_model_name)\n",
    "\n",
    "# Example passages and queries\n",
    "passages = [\n",
    "    \"mamals have 4 legs.\",\n",
    "    \"Mamals give birth to young ones\",\n",
    "    \"The bird is not a mamel\",\n",
    "    \"Mamals have 2 eyes\",\n",
    "    \"Mamals have 4 arms\",\n",
    "]\n",
    "\n",
    "queries = [\n",
    "    \"Do mamals lay eggs or do they give birth to young ones?\",\n",
    "    \"How many legs does a mamal have?\"\n",
    "]\n",
    "\n",
    "# Encode passages and queries\n",
    "def encode_passages(passages):\n",
    "    inputs = context_tokenizer(passages, truncation=True, padding=True, return_tensors=\"pt\")\n",
    "    with torch.no_grad():\n",
    "        outputs = context_encoder(**inputs)\n",
    "    return outputs.pooler_output\n",
    "\n",
    "def encode_queries(queries):\n",
    "    inputs = question_tokenizer(queries, truncation=True, padding=True, return_tensors=\"pt\")\n",
    "    with torch.no_grad():\n",
    "        outputs = question_encoder(**inputs)\n",
    "    return outputs.pooler_output\n",
    "\n",
    "# Retrieve relevant passages for a query\n",
    "def retrieve_passages(query_embedding, passage_embeddings):\n",
    "    similarity_scores = {}\n",
    "    for i, passage_embedding in enumerate(passage_embeddings):\n",
    "        similarity = np.dot(query_embedding, passage_embedding) / (np.linalg.norm(query_embedding) * np.linalg.norm(passage_embedding))\n",
    "        similarity_scores[i] = similarity\n",
    "    sorted_passages = sorted(similarity_scores.items(), key=lambda x: x[1], reverse=True)\n",
    "    return sorted_passages\n",
    "\n",
    "# Encode passages and queries\n",
    "passage_embeddings = encode_passages(passages)\n",
    "query_embeddings = encode_queries(queries)\n",
    "\n",
    "# Example usage: retrieve passages for each query\n",
    "for i, query_embedding in enumerate(query_embeddings):\n",
    "    top_passages = retrieve_passages(query_embedding.cpu().numpy(), passage_embeddings.cpu().numpy())\n",
    "    print(f\"Top passages for query '{queries[i]}':\")\n",
    "    for passage_idx, score in top_passages[:2]:  # Adjust the number of passages shown\n",
    "        print(f\"Passage {passage_idx + 1}: {passages[passage_idx]} (Score: {score:.4f})\")\n",
    "    print()\n"
   ]
  }
 ],
 "metadata": {
  "kernelspec": {
   "display_name": ".venv",
   "language": "python",
   "name": "python3"
  },
  "language_info": {
   "codemirror_mode": {
    "name": "ipython",
    "version": 3
   },
   "file_extension": ".py",
   "mimetype": "text/x-python",
   "name": "python",
   "nbconvert_exporter": "python",
   "pygments_lexer": "ipython3",
   "version": "3.12.3"
  }
 },
 "nbformat": 4,
 "nbformat_minor": 2
}
